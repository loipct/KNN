{
 "cells": [
  {
   "cell_type": "markdown",
   "metadata": {},
   "source": [
    "### Python Code to Compare KNN Methods Averaged Over 10 Runs"
   ]
  },
  {
   "cell_type": "code",
   "execution_count": 15,
   "metadata": {},
   "outputs": [
    {
     "name": "stdout",
     "output_type": "stream",
     "text": [
      "Method               Average Accuracy     Average Time Taken (s)   \n",
      "KNN (Brute-Force)    1.0000               0.0075                   \n",
      "KNN (KD-Tree)        1.0000               0.0042                   \n",
      "KNN (Ball Tree)      1.0000               0.0043                   \n",
      "KNN (Default)        1.0000               0.0037                   \n"
     ]
    }
   ],
   "source": [
    "import numpy as np\n",
    "import time\n",
    "from sklearn.datasets import load_iris\n",
    "from sklearn.model_selection import train_test_split\n",
    "from sklearn.neighbors import KNeighborsClassifier\n",
    "\n",
    "# Load the Iris dataset\n",
    "iris = load_iris()\n",
    "X, y = iris.data, iris.target\n",
    "\n",
    "# Split the data into training and test sets\n",
    "X_train, X_test, y_train, y_test = train_test_split(X, y, test_size=0.2, random_state=42)\n",
    "\n",
    "# KNN methods to compare\n",
    "methods = {\n",
    "    \"KNN (Brute-Force)\": KNeighborsClassifier(n_neighbors=3, algorithm='brute'),\n",
    "    \"KNN (KD-Tree)\": KNeighborsClassifier(n_neighbors=3, algorithm='kd_tree'),\n",
    "    \"KNN (Ball Tree)\": KNeighborsClassifier(n_neighbors=3, algorithm='ball_tree'),\n",
    "    \"KNN (Default)\": KNeighborsClassifier(n_neighbors=3)  # Default uses 'auto'\n",
    "}\n",
    "\n",
    "# Results\n",
    "results = []\n",
    "\n",
    "# Run each method 10 times\n",
    "for method_name, model in methods.items():\n",
    "    accuracies = []\n",
    "    times = []\n",
    "\n",
    "    for _ in range(10):  # Repeat 10 times\n",
    "        start_time = time.time()  # Start time\n",
    "        model.fit(X_train, y_train)  # Train the model\n",
    "        accuracy = model.score(X_test, y_test)  # Calculate accuracy\n",
    "        end_time = time.time()  # End time\n",
    "\n",
    "        # Store accuracy and time\n",
    "        accuracies.append(accuracy)\n",
    "        times.append(end_time - start_time)\n",
    "\n",
    "    # Calculate average accuracy and time\n",
    "    avg_accuracy = np.mean(accuracies)\n",
    "    avg_time = np.mean(times)\n",
    "\n",
    "    # Append results to the list\n",
    "    results.append({\n",
    "        \"Method\": method_name,\n",
    "        \"Average Accuracy\": avg_accuracy,\n",
    "        \"Average Time Taken (seconds)\": avg_time\n",
    "    })\n",
    "\n",
    "# Print results\n",
    "print(f\"{'Method':<20} {'Average Accuracy':<20} {'Average Time Taken (s)':<25}\")\n",
    "for result in results:\n",
    "    print(f\"{result['Method']:<20} {result['Average Accuracy']:<20.4f} {result['Average Time Taken (seconds)']:<25.4f}\")\n"
   ]
  }
 ],
 "metadata": {
  "kernelspec": {
   "display_name": "Python 3",
   "language": "python",
   "name": "python3"
  },
  "language_info": {
   "codemirror_mode": {
    "name": "ipython",
    "version": 3
   },
   "file_extension": ".py",
   "mimetype": "text/x-python",
   "name": "python",
   "nbconvert_exporter": "python",
   "pygments_lexer": "ipython3",
   "version": "3.11.0"
  }
 },
 "nbformat": 4,
 "nbformat_minor": 2
}
