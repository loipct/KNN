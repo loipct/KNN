{
 "cells": [
  {
   "cell_type": "code",
   "execution_count": 1,
   "metadata": {},
   "outputs": [
    {
     "name": "stdout",
     "output_type": "stream",
     "text": [
      "Collecting scikit-learn\n",
      "  Downloading scikit_learn-1.5.2-cp311-cp311-win_amd64.whl (11.0 MB)\n",
      "     -------------------------------------- 11.0/11.0 MB 747.2 kB/s eta 0:00:00\n",
      "Requirement already satisfied: numpy>=1.19.5 in c:\\users\\pc\\appdata\\local\\programs\\python\\python311\\lib\\site-packages (from scikit-learn) (1.26.4)\n",
      "Requirement already satisfied: scipy>=1.6.0 in c:\\users\\pc\\appdata\\local\\programs\\python\\python311\\lib\\site-packages (from scikit-learn) (1.14.1)\n",
      "Collecting joblib>=1.2.0\n",
      "  Using cached joblib-1.4.2-py3-none-any.whl (301 kB)\n",
      "Collecting threadpoolctl>=3.1.0\n",
      "  Using cached threadpoolctl-3.5.0-py3-none-any.whl (18 kB)\n",
      "Installing collected packages: threadpoolctl, joblib, scikit-learn\n",
      "Successfully installed joblib-1.4.2 scikit-learn-1.5.2 threadpoolctl-3.5.0\n",
      "Note: you may need to restart the kernel to use updated packages.\n"
     ]
    },
    {
     "name": "stderr",
     "output_type": "stream",
     "text": [
      "The system cannot find the path specified.\n",
      "WARNING: Ignoring invalid distribution ~pencv-python-headless (C:\\Users\\PC\\AppData\\Roaming\\Python\\Python311\\site-packages)\n",
      "WARNING: Ignoring invalid distribution ~pencv-python-headless (C:\\Users\\PC\\AppData\\Roaming\\Python\\Python311\\site-packages)\n",
      "WARNING: Ignoring invalid distribution ~pencv-python-headless (C:\\Users\\PC\\AppData\\Roaming\\Python\\Python311\\site-packages)\n",
      "WARNING: Ignoring invalid distribution ~pencv-python-headless (C:\\Users\\PC\\AppData\\Roaming\\Python\\Python311\\site-packages)\n",
      "WARNING: Ignoring invalid distribution ~pencv-python-headless (C:\\Users\\PC\\AppData\\Roaming\\Python\\Python311\\site-packages)\n",
      "WARNING: There was an error checking the latest version of pip.\n"
     ]
    }
   ],
   "source": [
    "# pip install scikit-learn"
   ]
  },
  {
   "cell_type": "code",
   "execution_count": 1,
   "metadata": {},
   "outputs": [],
   "source": [
    "import time\n",
    "import numpy as np\n",
    "import psutil\n",
    "from sklearn.datasets import load_iris, fetch_openml\n",
    "from sklearn.model_selection import train_test_split\n",
    "from sklearn.neighbors import KNeighborsClassifier\n",
    "from sklearn.svm import SVC\n",
    "from sklearn.tree import DecisionTreeClassifier\n",
    "from sklearn.linear_model import LogisticRegression\n",
    "from sklearn.metrics import accuracy_score\n",
    "\n",
    "# Utility to measure memory usage\n",
    "def memory_usage_psutil():\n",
    "    process = psutil.Process()\n",
    "    mem = process.memory_info().rss / (1024 ** 2)  # Convert bytes to MB\n",
    "    return mem\n",
    "\n",
    "# Benchmarking function\n",
    "def benchmark_model(model, X_train, X_test, y_train, y_test, dataset_name):\n",
    "    start_time = time.time()\n",
    "    # mem_before = memory_usage_psutil()\n",
    "\n",
    "    # Training the model\n",
    "    model.fit(X_train, y_train)\n",
    "\n",
    "    # Prediction\n",
    "    y_pred = model.predict(X_test)\n",
    "\n",
    "    # mem_after = memory_usage_psutil()\n",
    "    end_time = time.time()\n",
    "\n",
    "    # Metrics\n",
    "    accuracy = accuracy_score(y_test, y_pred)\n",
    "    duration = end_time - start_time\n",
    "    # memory_used = mem_after - mem_before\n",
    "\n",
    "    print(f\"--- {dataset_name} ---\")\n",
    "    print(f\"Model: {model.__class__.__name__}\")\n",
    "    print(f\"Accuracy: {accuracy:.4f}\")\n",
    "    print(f\"Time taken: {duration:.4f} seconds\")\n",
    "    # print(f\"Memory used: {memory_used:.2f} MB\")\n",
    "    print(\"\\n\")\n",
    "\n",
    "\n",
    "\n"
   ]
  },
  {
   "cell_type": "code",
   "execution_count": 2,
   "metadata": {},
   "outputs": [],
   "source": [
    "# 1. Benchmark on a small, low-dimensional dataset (Iris)\n",
    "iris = load_iris()\n",
    "X_iris, y_iris = iris.data, iris.target\n",
    "X_train_iris, X_test_iris, y_train_iris, y_test_iris = train_test_split(X_iris, y_iris, test_size=0.3, random_state=42)\n"
   ]
  },
  {
   "cell_type": "code",
   "execution_count": 3,
   "metadata": {},
   "outputs": [
    {
     "data": {
      "text/plain": [
       "(105, 4)"
      ]
     },
     "execution_count": 3,
     "metadata": {},
     "output_type": "execute_result"
    }
   ],
   "source": [
    "X_train_iris.shape"
   ]
  },
  {
   "cell_type": "code",
   "execution_count": 4,
   "metadata": {},
   "outputs": [
    {
     "name": "stdout",
     "output_type": "stream",
     "text": [
      "--- Iris ---\n",
      "Model: KNeighborsClassifier\n",
      "Accuracy: 1.0000\n",
      "Time taken: 0.0126 seconds\n",
      "\n",
      "\n",
      "--- Iris ---\n",
      "Model: SVC\n",
      "Accuracy: 1.0000\n",
      "Time taken: 0.0020 seconds\n",
      "\n",
      "\n",
      "--- Iris ---\n",
      "Model: DecisionTreeClassifier\n",
      "Accuracy: 1.0000\n",
      "Time taken: 0.0020 seconds\n",
      "\n",
      "\n",
      "--- Iris ---\n",
      "Model: LogisticRegression\n",
      "Accuracy: 1.0000\n",
      "Time taken: 0.0254 seconds\n",
      "\n",
      "\n"
     ]
    }
   ],
   "source": [
    "\n",
    "# KNN\n",
    "knn = KNeighborsClassifier()\n",
    "benchmark_model(knn, X_train_iris, X_test_iris, y_train_iris, y_test_iris, \"Iris\")\n",
    "\n",
    "# SVM\n",
    "svm = SVC()\n",
    "benchmark_model(svm, X_train_iris, X_test_iris, y_train_iris, y_test_iris, \"Iris\")\n",
    "\n",
    "# Decision Tree\n",
    "tree = DecisionTreeClassifier()\n",
    "benchmark_model(tree, X_train_iris, X_test_iris, y_train_iris, y_test_iris, \"Iris\")\n",
    "\n",
    "# Logistic Regression\n",
    "logreg = LogisticRegression(max_iter=200)\n",
    "benchmark_model(logreg, X_train_iris, X_test_iris, y_train_iris, y_test_iris, \"Iris\")"
   ]
  },
  {
   "cell_type": "code",
   "execution_count": 5,
   "metadata": {},
   "outputs": [],
   "source": [
    "# 2. Benchmark on a large, high-dimensional dataset (MNIST)\n",
    "mnist = fetch_openml('mnist_784', version=1)\n",
    "X_mnist, y_mnist = mnist.data, mnist.target\n",
    "y_mnist = y_mnist.astype(np.int8)  # Convert labels to integers\n",
    "X_train_mnist, X_test_mnist, y_train_mnist, y_test_mnist = train_test_split(X_mnist, y_mnist, test_size=0.2, random_state=42)\n"
   ]
  },
  {
   "cell_type": "code",
   "execution_count": 6,
   "metadata": {},
   "outputs": [
    {
     "data": {
      "text/plain": [
       "(56000, 784)"
      ]
     },
     "execution_count": 6,
     "metadata": {},
     "output_type": "execute_result"
    }
   ],
   "source": [
    "X_train_mnist.shape"
   ]
  },
  {
   "cell_type": "code",
   "execution_count": 7,
   "metadata": {},
   "outputs": [
    {
     "name": "stdout",
     "output_type": "stream",
     "text": [
      "--- MNIST ---\n",
      "Model: KNeighborsClassifier\n",
      "Accuracy: 0.9701\n",
      "Time taken: 41.6168 seconds\n",
      "\n",
      "\n",
      "--- MNIST ---\n",
      "Model: SVC\n",
      "Accuracy: 0.9764\n",
      "Time taken: 371.8864 seconds\n",
      "\n",
      "\n",
      "--- MNIST ---\n",
      "Model: DecisionTreeClassifier\n",
      "Accuracy: 0.8706\n",
      "Time taken: 22.0227 seconds\n",
      "\n",
      "\n",
      "--- MNIST ---\n",
      "Model: LogisticRegression\n",
      "Accuracy: 0.9183\n",
      "Time taken: 29.7453 seconds\n",
      "\n",
      "\n"
     ]
    },
    {
     "name": "stderr",
     "output_type": "stream",
     "text": [
      "c:\\Users\\PC\\AppData\\Local\\Programs\\Python\\Python311\\Lib\\site-packages\\sklearn\\linear_model\\_logistic.py:469: ConvergenceWarning: lbfgs failed to converge (status=1):\n",
      "STOP: TOTAL NO. of ITERATIONS REACHED LIMIT.\n",
      "\n",
      "Increase the number of iterations (max_iter) or scale the data as shown in:\n",
      "    https://scikit-learn.org/stable/modules/preprocessing.html\n",
      "Please also refer to the documentation for alternative solver options:\n",
      "    https://scikit-learn.org/stable/modules/linear_model.html#logistic-regression\n",
      "  n_iter_i = _check_optimize_result(\n"
     ]
    }
   ],
   "source": [
    "\n",
    "\n",
    "# KNN\n",
    "knn = KNeighborsClassifier()\n",
    "benchmark_model(knn, X_train_mnist, X_test_mnist, y_train_mnist, y_test_mnist, \"MNIST\")\n",
    "\n",
    "# SVM\n",
    "svm = SVC()\n",
    "benchmark_model(svm, X_train_mnist, X_test_mnist, y_train_mnist, y_test_mnist, \"MNIST\")\n",
    "\n",
    "# Decision Tree\n",
    "tree = DecisionTreeClassifier()\n",
    "benchmark_model(tree, X_train_mnist, X_test_mnist, y_train_mnist, y_test_mnist, \"MNIST\")\n",
    "\n",
    "# Logistic Regression\n",
    "logreg = LogisticRegression(max_iter=200)\n",
    "benchmark_model(logreg, X_train_mnist, X_test_mnist, y_train_mnist, y_test_mnist, \"MNIST\")\n"
   ]
  }
 ],
 "metadata": {
  "kernelspec": {
   "display_name": "Python 3",
   "language": "python",
   "name": "python3"
  },
  "language_info": {
   "codemirror_mode": {
    "name": "ipython",
    "version": 3
   },
   "file_extension": ".py",
   "mimetype": "text/x-python",
   "name": "python",
   "nbconvert_exporter": "python",
   "pygments_lexer": "ipython3",
   "version": "3.11.0"
  }
 },
 "nbformat": 4,
 "nbformat_minor": 2
}
